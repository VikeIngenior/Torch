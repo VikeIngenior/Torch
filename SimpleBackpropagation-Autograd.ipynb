{
 "cells": [
  {
   "cell_type": "code",
   "id": "initial_id",
   "metadata": {
    "collapsed": true,
    "ExecuteTime": {
     "end_time": "2024-11-05T13:47:41.981694Z",
     "start_time": "2024-11-05T13:47:37.203741Z"
    }
   },
   "source": [
    "import torch\n",
    "import math"
   ],
   "outputs": [],
   "execution_count": 1
  },
  {
   "metadata": {
    "ExecuteTime": {
     "end_time": "2024-11-05T13:57:09.555771Z",
     "start_time": "2024-11-05T13:57:09.545203Z"
    }
   },
   "cell_type": "code",
   "source": [
    "dtype = torch.float\n",
    "device = torch.device(\"cuda\" if torch.cuda.is_available() else \"cpu\")\n",
    "torch.set_default_device(device) "
   ],
   "id": "2c66e8dc91d82340",
   "outputs": [],
   "execution_count": 2
  },
  {
   "metadata": {
    "ExecuteTime": {
     "end_time": "2024-11-05T13:59:09.749380Z",
     "start_time": "2024-11-05T13:59:09.700830Z"
    }
   },
   "cell_type": "code",
   "source": [
    "# Tensors to hold input and output\n",
    "# requires_grad will be False by default because we don't need the compute gradients for these tensors\n",
    "\n",
    "x = torch.linspace(-math.pi, math.pi, 2000, dtype=dtype)\n",
    "y = torch.sin(x)"
   ],
   "id": "c0be505f6c92b43f",
   "outputs": [],
   "execution_count": 3
  },
  {
   "metadata": {
    "ExecuteTime": {
     "end_time": "2024-11-05T14:21:21.461648Z",
     "start_time": "2024-11-05T14:21:21.456134Z"
    }
   },
   "cell_type": "code",
   "source": [
    "# Create random tensors for weights\n",
    "# 4rd order polynomial, we need 4 weights: y = a + b*x + c*x** + d*x**3\n",
    "# We want to compute gradients, so set requires_grad=True\n",
    "\n",
    "a = torch.randn((), dtype=dtype, requires_grad=True)\n",
    "b = torch.randn((), dtype=dtype, requires_grad=True)\n",
    "c = torch.randn((), dtype=dtype, requires_grad=True)\n",
    "d = torch.randn((), dtype=dtype, requires_grad=True)"
   ],
   "id": "fbff767c9f24c34b",
   "outputs": [],
   "execution_count": 6
  },
  {
   "metadata": {
    "ExecuteTime": {
     "end_time": "2024-11-05T14:21:23.702154Z",
     "start_time": "2024-11-05T14:21:23.117331Z"
    }
   },
   "cell_type": "code",
   "source": [
    "learning_rate = 1e-6\n",
    "for t in range(2000):\n",
    "    # Forward pass, compute predicted y\n",
    "    y_pred = a + b * x + c * x ** 2 + d * x ** 3\n",
    "    \n",
    "    #Compute loss\n",
    "    loss = (y_pred - y).pow(2).sum()\n",
    "    if t % 100 == 99:\n",
    "        print(t, loss.item())\n",
    "        \n",
    "    # Use autograd to compute the backward pass\n",
    "    loss.backward()\n",
    "    \n",
    "    #Update weights. We don't need grad, so we should go with torch.no_grad()\n",
    "    with torch.no_grad():\n",
    "        a -= learning_rate * a.grad\n",
    "        b -= learning_rate * b.grad\n",
    "        c -= learning_rate * c.grad\n",
    "        d -= learning_rate * d.grad\n",
    "        \n",
    "        a.grad = None\n",
    "        b.grad = None\n",
    "        c.grad = None\n",
    "        d.grad = None\n",
    "        \n",
    "print(f'Result: y = {a.item()} + {b.item()} x + {c.item()} x^2 + {d.item()} x^3')"
   ],
   "id": "7107e72737d004f0",
   "outputs": [
    {
     "name": "stdout",
     "output_type": "stream",
     "text": [
      "99 4630.70703125\n",
      "199 3065.953857421875\n",
      "299 2030.99560546875\n",
      "399 1346.440185546875\n",
      "499 893.6438598632812\n",
      "599 594.1377563476562\n",
      "699 396.0223388671875\n",
      "799 264.97113037109375\n",
      "899 178.2801055908203\n",
      "999 120.93199920654297\n",
      "1099 82.99369812011719\n",
      "1199 57.89504623413086\n",
      "1299 41.29021453857422\n",
      "1399 30.3043155670166\n",
      "1499 23.035734176635742\n",
      "1599 18.22638702392578\n",
      "1699 15.044116973876953\n",
      "1799 12.938362121582031\n",
      "1899 11.544840812683105\n",
      "1999 10.622652053833008\n",
      "Result: y = -0.005551859736442566 + 0.815751850605011 x + 0.000957788317464292 x^2 + -0.08750005811452866 x^3\n"
     ]
    }
   ],
   "execution_count": 7
  },
  {
   "metadata": {},
   "cell_type": "code",
   "outputs": [],
   "execution_count": null,
   "source": "",
   "id": "329491e1feb528df"
  }
 ],
 "metadata": {
  "kernelspec": {
   "display_name": "Python 3",
   "language": "python",
   "name": "python3"
  },
  "language_info": {
   "codemirror_mode": {
    "name": "ipython",
    "version": 2
   },
   "file_extension": ".py",
   "mimetype": "text/x-python",
   "name": "python",
   "nbconvert_exporter": "python",
   "pygments_lexer": "ipython2",
   "version": "2.7.6"
  }
 },
 "nbformat": 4,
 "nbformat_minor": 5
}
