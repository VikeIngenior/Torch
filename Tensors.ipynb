{
 "cells": [
  {
   "metadata": {
    "ExecuteTime": {
     "end_time": "2024-11-04T15:55:28.436902Z",
     "start_time": "2024-11-04T15:55:28.433885Z"
    }
   },
   "cell_type": "code",
   "source": [
    "import torch\n",
    "import numpy as np"
   ],
   "id": "4b172668286c107",
   "outputs": [],
   "execution_count": 4
  },
  {
   "metadata": {},
   "cell_type": "markdown",
   "source": "## Tensor Initialization",
   "id": "4154a66543e51511"
  },
  {
   "metadata": {
    "ExecuteTime": {
     "end_time": "2024-11-04T15:56:35.050991Z",
     "start_time": "2024-11-04T15:56:35.042906Z"
    }
   },
   "cell_type": "code",
   "source": [
    "# From data\n",
    "data = [[23,654],[345.4,31.4643]]\n",
    "torch_data = torch.tensor(data)\n",
    "torch_data"
   ],
   "id": "cb28ff5b0dfaa6b8",
   "outputs": [
    {
     "data": {
      "text/plain": [
       "tensor([[ 23.0000, 654.0000],\n",
       "        [345.4000,  31.4643]])"
      ]
     },
     "execution_count": 5,
     "metadata": {},
     "output_type": "execute_result"
    }
   ],
   "execution_count": 5
  },
  {
   "metadata": {
    "ExecuteTime": {
     "end_time": "2024-11-04T15:57:13.368501Z",
     "start_time": "2024-11-04T15:57:13.360589Z"
    }
   },
   "cell_type": "code",
   "source": [
    "# From a Numpy array\n",
    "np_array = np.array(data)\n",
    "torch_np = torch.tensor(np_array)\n",
    "torch_np"
   ],
   "id": "cff7365939575e8",
   "outputs": [
    {
     "data": {
      "text/plain": [
       "tensor([[ 23.0000, 654.0000],\n",
       "        [345.4000,  31.4643]], dtype=torch.float64)"
      ]
     },
     "execution_count": 6,
     "metadata": {},
     "output_type": "execute_result"
    }
   ],
   "execution_count": 6
  },
  {
   "metadata": {
    "ExecuteTime": {
     "end_time": "2024-11-04T15:58:06.178427Z",
     "start_time": "2024-11-04T15:58:06.170530Z"
    }
   },
   "cell_type": "code",
   "source": [
    "# From another torch\n",
    "torch_ones = torch.ones_like(torch_data)\n",
    "torch_ones"
   ],
   "id": "a2ea67fb24a10ecc",
   "outputs": [
    {
     "data": {
      "text/plain": [
       "tensor([[1., 1.],\n",
       "        [1., 1.]])"
      ]
     },
     "execution_count": 7,
     "metadata": {},
     "output_type": "execute_result"
    }
   ],
   "execution_count": 7
  },
  {
   "metadata": {
    "ExecuteTime": {
     "end_time": "2024-11-04T15:58:30.941007Z",
     "start_time": "2024-11-04T15:58:30.935231Z"
    }
   },
   "cell_type": "code",
   "source": [
    "torch_rand = torch.rand_like(torch_data, dtype=torch.float)\n",
    "torch_rand"
   ],
   "id": "15b2b05dbb36585",
   "outputs": [
    {
     "data": {
      "text/plain": [
       "tensor([[0.7578, 0.1298],\n",
       "        [0.9782, 0.4572]])"
      ]
     },
     "execution_count": 8,
     "metadata": {},
     "output_type": "execute_result"
    }
   ],
   "execution_count": 8
  },
  {
   "metadata": {
    "ExecuteTime": {
     "end_time": "2024-11-04T20:00:38.964510Z",
     "start_time": "2024-11-04T20:00:38.893070Z"
    }
   },
   "cell_type": "code",
   "source": [
    "# Tensor Attributes\n",
    "tensor = torch.rand(4,5)\n",
    "\n",
    "print(f\"Shape: {tensor.shape}\")\n",
    "print(f\"Datatype: {tensor.dtype}\")\n",
    "print(f\"Device: {tensor.device}\")"
   ],
   "id": "89f16163349809b9",
   "outputs": [
    {
     "name": "stdout",
     "output_type": "stream",
     "text": [
      "Shape: torch.Size([4, 5])\n",
      "Datatype: torch.float32\n",
      "Device: cpu\n"
     ]
    }
   ],
   "execution_count": 9
  },
  {
   "metadata": {
    "ExecuteTime": {
     "end_time": "2024-11-04T20:01:39.835141Z",
     "start_time": "2024-11-04T20:01:38.507313Z"
    }
   },
   "cell_type": "code",
   "source": [
    "# Wait, did I forget to switch to GPU?\n",
    "\n",
    "print(torch.cuda.is_available())"
   ],
   "id": "80aad1d45203dc83",
   "outputs": [
    {
     "name": "stdout",
     "output_type": "stream",
     "text": [
      "True\n"
     ]
    }
   ],
   "execution_count": 10
  },
  {
   "metadata": {
    "ExecuteTime": {
     "end_time": "2024-11-04T20:07:36.935593Z",
     "start_time": "2024-11-04T20:07:36.931360Z"
    }
   },
   "cell_type": "code",
   "source": "device = torch.device('cuda')",
   "id": "c3f3528e9ffff370",
   "outputs": [],
   "execution_count": 23
  },
  {
   "metadata": {
    "ExecuteTime": {
     "end_time": "2024-11-04T20:07:37.843185Z",
     "start_time": "2024-11-04T20:07:37.838740Z"
    }
   },
   "cell_type": "code",
   "source": [
    "# Tensor Attributes\n",
    "tensor = torch.rand(4,5)\n",
    "\n",
    "print(f\"Shape: {tensor.shape}\")\n",
    "print(f\"Datatype: {tensor.dtype}\")\n",
    "print(f\"Device: {tensor.device}\")"
   ],
   "id": "a30918fe36f8cb4a",
   "outputs": [
    {
     "name": "stdout",
     "output_type": "stream",
     "text": [
      "Shape: torch.Size([4, 5])\n",
      "Datatype: torch.float32\n",
      "Device: cpu\n"
     ]
    }
   ],
   "execution_count": 24
  },
  {
   "metadata": {
    "ExecuteTime": {
     "end_time": "2024-11-04T20:07:43.376630Z",
     "start_time": "2024-11-04T20:07:43.372144Z"
    }
   },
   "cell_type": "code",
   "source": [
    "# Still on CPU\n",
    "tensor = tensor.to(device)"
   ],
   "id": "acdac21c58a7936c",
   "outputs": [],
   "execution_count": 25
  },
  {
   "metadata": {
    "ExecuteTime": {
     "end_time": "2024-11-04T20:07:43.914066Z",
     "start_time": "2024-11-04T20:07:43.909864Z"
    }
   },
   "cell_type": "code",
   "source": "print(f\"Device: {tensor.device}\")",
   "id": "8d8f3de4a0cae343",
   "outputs": [
    {
     "name": "stdout",
     "output_type": "stream",
     "text": [
      "Device: cuda:0\n"
     ]
    }
   ],
   "execution_count": 26
  },
  {
   "metadata": {
    "ExecuteTime": {
     "end_time": "2024-11-04T20:07:45.438238Z",
     "start_time": "2024-11-04T20:07:45.434713Z"
    }
   },
   "cell_type": "code",
   "source": "# I learned something..",
   "id": "a2c46c214f37d62a",
   "outputs": [],
   "execution_count": 27
  },
  {
   "metadata": {},
   "cell_type": "markdown",
   "source": "### Indexing",
   "id": "cb3b3b31862d5366"
  },
  {
   "metadata": {
    "ExecuteTime": {
     "end_time": "2024-11-04T20:09:23.519380Z",
     "start_time": "2024-11-04T20:09:23.507663Z"
    }
   },
   "cell_type": "code",
   "source": [
    "tensor = torch.rand(4,5)\n",
    "tensor[:1] = 99 #First row only\n",
    "tensor"
   ],
   "id": "1d052a7eb02b449b",
   "outputs": [
    {
     "data": {
      "text/plain": [
       "tensor([[9.9000e+01, 9.9000e+01, 9.9000e+01, 9.9000e+01, 9.9000e+01],\n",
       "        [7.4329e-01, 8.3839e-01, 7.0827e-01, 1.2148e-01, 6.5507e-01],\n",
       "        [2.0483e-01, 8.5266e-01, 5.6404e-01, 5.0472e-01, 7.9405e-02],\n",
       "        [3.6233e-01, 8.8175e-01, 6.5552e-01, 2.9521e-02, 6.6255e-01]])"
      ]
     },
     "execution_count": 28,
     "metadata": {},
     "output_type": "execute_result"
    }
   ],
   "execution_count": 28
  },
  {
   "metadata": {
    "ExecuteTime": {
     "end_time": "2024-11-04T20:10:23.276427Z",
     "start_time": "2024-11-04T20:10:23.266720Z"
    }
   },
   "cell_type": "code",
   "source": [
    "# Joining Operation\n",
    "concatenated = torch.cat([tensor, tensor], dim=1)\n",
    "concatenated"
   ],
   "id": "5118afc3d1e90314",
   "outputs": [
    {
     "data": {
      "text/plain": [
       "tensor([[9.9000e+01, 9.9000e+01, 9.9000e+01, 9.9000e+01, 9.9000e+01, 9.9000e+01,\n",
       "         9.9000e+01, 9.9000e+01, 9.9000e+01, 9.9000e+01],\n",
       "        [7.4329e-01, 8.3839e-01, 7.0827e-01, 1.2148e-01, 6.5507e-01, 7.4329e-01,\n",
       "         8.3839e-01, 7.0827e-01, 1.2148e-01, 6.5507e-01],\n",
       "        [2.0483e-01, 8.5266e-01, 5.6404e-01, 5.0472e-01, 7.9405e-02, 2.0483e-01,\n",
       "         8.5266e-01, 5.6404e-01, 5.0472e-01, 7.9405e-02],\n",
       "        [3.6233e-01, 8.8175e-01, 6.5552e-01, 2.9521e-02, 6.6255e-01, 3.6233e-01,\n",
       "         8.8175e-01, 6.5552e-01, 2.9521e-02, 6.6255e-01]])"
      ]
     },
     "execution_count": 29,
     "metadata": {},
     "output_type": "execute_result"
    }
   ],
   "execution_count": 29
  },
  {
   "metadata": {
    "ExecuteTime": {
     "end_time": "2024-11-04T20:14:06.869209Z",
     "start_time": "2024-11-04T20:14:06.862572Z"
    }
   },
   "cell_type": "code",
   "source": [
    "# Multiplying\n",
    "\n",
    "tensor = torch.rand(3,4)\n",
    "\n",
    "print(tensor)\n",
    "print(tensor.mul(tensor)) # Element-wise\n",
    "# or\n",
    "print(tensor * tensor)"
   ],
   "id": "88ef366b3ba59e22",
   "outputs": [
    {
     "name": "stdout",
     "output_type": "stream",
     "text": [
      "tensor([[0.1532, 0.0982, 0.6616, 0.0600],\n",
      "        [0.8824, 0.2273, 0.4693, 0.7808],\n",
      "        [0.6570, 0.0172, 0.0271, 0.1944]])\n",
      "tensor([[2.3479e-02, 9.6389e-03, 4.3773e-01, 3.6014e-03],\n",
      "        [7.7870e-01, 5.1649e-02, 2.2024e-01, 6.0958e-01],\n",
      "        [4.3162e-01, 2.9664e-04, 7.3657e-04, 3.7785e-02]])\n",
      "tensor([[2.3479e-02, 9.6389e-03, 4.3773e-01, 3.6014e-03],\n",
      "        [7.7870e-01, 5.1649e-02, 2.2024e-01, 6.0958e-01],\n",
      "        [4.3162e-01, 2.9664e-04, 7.3657e-04, 3.7785e-02]])\n"
     ]
    }
   ],
   "execution_count": 36
  },
  {
   "metadata": {
    "ExecuteTime": {
     "end_time": "2024-11-04T20:14:08.029192Z",
     "start_time": "2024-11-04T20:14:08.023452Z"
    }
   },
   "cell_type": "code",
   "source": [
    "print(tensor.matmul(tensor.T)) # Matrix Multiplication\n",
    "# or\n",
    "print(tensor @ tensor.T)"
   ],
   "id": "5cb0ac9ae544d51b",
   "outputs": [
    {
     "name": "stdout",
     "output_type": "stream",
     "text": [
      "tensor([[0.4744, 0.5149, 0.1320],\n",
      "        [0.5149, 1.6602, 0.7482],\n",
      "        [0.1320, 0.7482, 0.4704]])\n",
      "tensor([[0.4744, 0.5149, 0.1320],\n",
      "        [0.5149, 1.6602, 0.7482],\n",
      "        [0.1320, 0.7482, 0.4704]])\n"
     ]
    }
   ],
   "execution_count": 37
  },
  {
   "metadata": {
    "ExecuteTime": {
     "end_time": "2024-11-04T20:15:22.160638Z",
     "start_time": "2024-11-04T20:15:22.149683Z"
    }
   },
   "cell_type": "code",
   "source": [
    "# In-place Operations, which will change the tensor\n",
    "\n",
    "tensor = torch.randint(3,15,(4,4))\n",
    "tensor"
   ],
   "id": "3073d727eba36eff",
   "outputs": [
    {
     "data": {
      "text/plain": [
       "tensor([[ 9,  3, 13, 11],\n",
       "        [13, 12,  9,  7],\n",
       "        [ 3,  7, 11,  5],\n",
       "        [11, 13, 13, 13]])"
      ]
     },
     "execution_count": 38,
     "metadata": {},
     "output_type": "execute_result"
    }
   ],
   "execution_count": 38
  },
  {
   "metadata": {
    "ExecuteTime": {
     "end_time": "2024-11-04T20:16:05.827475Z",
     "start_time": "2024-11-04T20:16:05.820596Z"
    }
   },
   "cell_type": "code",
   "source": [
    "#Normal add operation\n",
    "tensor.add(5)\n",
    "print(tensor)"
   ],
   "id": "3592a70f7db4394a",
   "outputs": [
    {
     "name": "stdout",
     "output_type": "stream",
     "text": [
      "tensor([[ 9,  3, 13, 11],\n",
      "        [13, 12,  9,  7],\n",
      "        [ 3,  7, 11,  5],\n",
      "        [11, 13, 13, 13]])\n"
     ]
    }
   ],
   "execution_count": 39
  },
  {
   "metadata": {
    "ExecuteTime": {
     "end_time": "2024-11-04T20:16:43.707777Z",
     "start_time": "2024-11-04T20:16:43.701485Z"
    }
   },
   "cell_type": "code",
   "source": [
    "# Same tensor, now with in-place. '_' suffix is used for that\n",
    "tensor.add_(5)\n",
    "tensor"
   ],
   "id": "96cb5e5aae309f52",
   "outputs": [
    {
     "data": {
      "text/plain": [
       "tensor([[14,  8, 18, 16],\n",
       "        [18, 17, 14, 12],\n",
       "        [ 8, 12, 16, 10],\n",
       "        [16, 18, 18, 18]])"
      ]
     },
     "execution_count": 41,
     "metadata": {},
     "output_type": "execute_result"
    }
   ],
   "execution_count": 41
  },
  {
   "metadata": {
    "ExecuteTime": {
     "end_time": "2024-11-04T20:18:28.414349Z",
     "start_time": "2024-11-04T20:18:28.399343Z"
    }
   },
   "cell_type": "code",
   "source": [
    "# Tensors on CPU and NumPy arrays can share their memory locations. If we change one, so will the other.\n",
    "t = torch.ones(3)\n",
    "print(t)\n",
    "n = t.numpy()\n",
    "print(n)"
   ],
   "id": "91f2f1786ef81ce4",
   "outputs": [
    {
     "name": "stdout",
     "output_type": "stream",
     "text": [
      "tensor([1., 1., 1.])\n",
      "[1. 1. 1.]\n"
     ]
    }
   ],
   "execution_count": 42
  },
  {
   "metadata": {
    "ExecuteTime": {
     "end_time": "2024-11-04T20:18:55.276Z",
     "start_time": "2024-11-04T20:18:55.270558Z"
    }
   },
   "cell_type": "code",
   "source": [
    "t.add_(3) #in-place\n",
    "print(t)\n",
    "print(n)"
   ],
   "id": "d71cd2f540d8f8b4",
   "outputs": [
    {
     "name": "stdout",
     "output_type": "stream",
     "text": [
      "tensor([4., 4., 4.])\n",
      "[4. 4. 4.]\n"
     ]
    }
   ],
   "execution_count": 43
  },
  {
   "metadata": {},
   "cell_type": "code",
   "outputs": [],
   "execution_count": null,
   "source": "",
   "id": "86026e2869cd9663"
  }
 ],
 "metadata": {
  "kernelspec": {
   "display_name": "Python 3",
   "language": "python",
   "name": "python3"
  },
  "language_info": {
   "codemirror_mode": {
    "name": "ipython",
    "version": 2
   },
   "file_extension": ".py",
   "mimetype": "text/x-python",
   "name": "python",
   "nbconvert_exporter": "python",
   "pygments_lexer": "ipython2",
   "version": "2.7.6"
  }
 },
 "nbformat": 4,
 "nbformat_minor": 5
}
