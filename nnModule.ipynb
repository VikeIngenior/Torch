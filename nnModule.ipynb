{
 "cells": [
  {
   "cell_type": "code",
   "id": "initial_id",
   "metadata": {
    "collapsed": true,
    "ExecuteTime": {
     "end_time": "2024-11-05T20:26:36.884604Z",
     "start_time": "2024-11-05T20:26:31.346533Z"
    }
   },
   "source": [
    "import torch\n",
    "import math"
   ],
   "outputs": [],
   "execution_count": 1
  },
  {
   "metadata": {
    "ExecuteTime": {
     "end_time": "2024-11-05T20:26:50.342172Z",
     "start_time": "2024-11-05T20:26:50.335761Z"
    }
   },
   "cell_type": "code",
   "source": [
    "#Define tensor to hold input and outputs\n",
    "\n",
    "x = torch.linspace(-math.pi, math.pi, 2000)\n",
    "y = torch.sin(x)"
   ],
   "id": "98a7d04e02df71c1",
   "outputs": [],
   "execution_count": 2
  },
  {
   "metadata": {
    "ExecuteTime": {
     "end_time": "2024-11-05T20:27:22.437996Z",
     "start_time": "2024-11-05T20:27:22.427863Z"
    }
   },
   "cell_type": "code",
   "source": [
    "p = torch.tensor([1,2,3])\n",
    "xx = x.unsqueeze(-1).pow(p)\n",
    "\n",
    "## x.unsqueeze(-1).shape = (2000,1)\n",
    "## p.shape = (3,)\n",
    "## xx.shape = (2000,3)"
   ],
   "id": "eb879fcf56ab9af7",
   "outputs": [],
   "execution_count": 3
  },
  {
   "metadata": {
    "ExecuteTime": {
     "end_time": "2024-11-05T20:27:58.333882Z",
     "start_time": "2024-11-05T20:27:58.325751Z"
    }
   },
   "cell_type": "code",
   "source": [
    "model = torch.nn.Sequential(\n",
    "    torch.nn.Linear(3, 1),\n",
    "    torch.nn.Flatten(0,1)\n",
    ")\n",
    "\n",
    "#Flatten layer is used to flatten the output of the linear layer to a 1d tensor to match the shape of the 'y'"
   ],
   "id": "f5dd462e4e45daf9",
   "outputs": [],
   "execution_count": 4
  },
  {
   "metadata": {
    "ExecuteTime": {
     "end_time": "2024-11-05T20:28:29.708645Z",
     "start_time": "2024-11-05T20:28:29.704789Z"
    }
   },
   "cell_type": "code",
   "source": "loss_fn = torch.nn.MSELoss(reduction='sum')",
   "id": "c7b39fb103953857",
   "outputs": [],
   "execution_count": 5
  },
  {
   "metadata": {
    "ExecuteTime": {
     "end_time": "2024-11-05T20:30:13.875525Z",
     "start_time": "2024-11-05T20:30:13.382754Z"
    }
   },
   "cell_type": "code",
   "source": [
    "learning_rate = 1e-6\n",
    "for t in range(2000):\n",
    "    \n",
    "    # Forward pass: compute predicted y by passing x to the model. \n",
    "    # Module objects override the __call__ operator so we can call them like functions. \n",
    "    # When doing so we pass a Tensor of input data to the Module and it produces a Tensor of output data.\n",
    "    y_pred = model(xx)\n",
    "    \n",
    "    loss = loss_fn(y_pred, y)\n",
    "    if t % 100 == 99:\n",
    "        print(t, loss.item())\n",
    "    \n",
    "    # Zeroing gradients before running the backward\n",
    "    model.zero_grad()\n",
    "    \n",
    "    # Backward pass: compute gradient of the loss with respect to all the learnable parameters of the model. \n",
    "    # Internally, the parameters of each Module are stored in Tensors with requires_grad=True, \n",
    "    # so this call will compute gradients for all learnable parameters in the model.\n",
    "    loss.backward()\n",
    "    \n",
    "    with torch.no_grad():\n",
    "        for param in model.parameters():\n",
    "            param -= learning_rate * param.grad"
   ],
   "id": "3a8f310dcb47d2b6",
   "outputs": [
    {
     "name": "stdout",
     "output_type": "stream",
     "text": [
      "99 513.218994140625\n",
      "199 342.5388488769531\n",
      "299 229.62213134765625\n",
      "399 154.91751098632812\n",
      "499 105.49185943603516\n",
      "599 72.789794921875\n",
      "699 51.152000427246094\n",
      "799 36.834449768066406\n",
      "899 27.36003875732422\n",
      "999 21.09037208557129\n",
      "1099 16.941089630126953\n",
      "1199 14.194960594177246\n",
      "1299 12.37740421295166\n",
      "1399 11.174284934997559\n",
      "1499 10.377889633178711\n",
      "1599 9.850664138793945\n",
      "1699 9.501618385314941\n",
      "1799 9.270499229431152\n",
      "1899 9.117449760437012\n",
      "1999 9.016111373901367\n"
     ]
    }
   ],
   "execution_count": 6
  },
  {
   "metadata": {
    "ExecuteTime": {
     "end_time": "2024-11-05T20:32:28.605569Z",
     "start_time": "2024-11-05T20:32:28.598639Z"
    }
   },
   "cell_type": "code",
   "source": [
    "linear_layer = model[0]\n",
    "\n",
    "print(f\"Result: y = {linear_layer.bias.item()} + {linear_layer.weight[:, 0].item()} x + {linear_layer.weight[:, 1].item()} x^2 + {linear_layer.weight[:, 2].item()} x^3\")"
   ],
   "id": "8f815fe9241a9105",
   "outputs": [
    {
     "name": "stdout",
     "output_type": "stream",
     "text": [
      "Result: y = -0.002506438409909606 + 0.8432244062423706 x + 0.0004324029723647982 x^2 + -0.09140779823064804 x^3\n"
     ]
    }
   ],
   "execution_count": 7
  },
  {
   "metadata": {},
   "cell_type": "code",
   "outputs": [],
   "execution_count": null,
   "source": "",
   "id": "a216c1aa81d1a07f"
  }
 ],
 "metadata": {
  "kernelspec": {
   "display_name": "Python 3",
   "language": "python",
   "name": "python3"
  },
  "language_info": {
   "codemirror_mode": {
    "name": "ipython",
    "version": 2
   },
   "file_extension": ".py",
   "mimetype": "text/x-python",
   "name": "python",
   "nbconvert_exporter": "python",
   "pygments_lexer": "ipython2",
   "version": "2.7.6"
  }
 },
 "nbformat": 4,
 "nbformat_minor": 5
}
