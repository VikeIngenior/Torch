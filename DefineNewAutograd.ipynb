{
 "cells": [
  {
   "metadata": {},
   "cell_type": "markdown",
   "source": [
    "A new autograd operator can be defined with a subclass of <i>torch.autograd.Function</i> and implementing the <i>forward</i> and <i>backward</i> functions<br>\n",
    "\n"
   ],
   "id": "b2cbc3dcb7d922a3"
  },
  {
   "metadata": {},
   "cell_type": "markdown",
   "source": [
    "\n",
    "In this notebook, it will be defined as <b>y = a + b * P_3(c+dx)</b> instead of <i>y =a + b*x + c*x**2 + d*x**3<i>, where <br>P_3(x) = (1/2)*(5*x**3 - 3*x) --> Legendre Polynomial"
   ],
   "id": "b71c4a1768eabc4f"
  },
  {
   "metadata": {
    "ExecuteTime": {
     "end_time": "2024-11-05T20:13:12.946137Z",
     "start_time": "2024-11-05T20:13:10.942240Z"
    }
   },
   "cell_type": "code",
   "source": [
    "import torch\n",
    "import math"
   ],
   "id": "982b681272ddef3e",
   "outputs": [],
   "execution_count": 1
  },
  {
   "metadata": {
    "ExecuteTime": {
     "end_time": "2024-11-05T20:13:14.950809Z",
     "start_time": "2024-11-05T20:13:14.946697Z"
    }
   },
   "cell_type": "code",
   "source": [
    "class LegendrePolynomial3(torch.autograd.Function):\n",
    "    \"\"\"\n",
    "    We can implement our own custom autograd Functions by subclassing\n",
    "    torch.autograd.Function and implementing the forward and backward passes\n",
    "    which operate on Tensors.\n",
    "    \"\"\"\n",
    "\n",
    "    @staticmethod\n",
    "    def forward(ctx, input):\n",
    "        \"\"\"\n",
    "        ctx is a context object that can be used\n",
    "        to stash information for backward computation. We can cache arbitrary\n",
    "        objects for use in the backward pass using the ctx.save_for_backward method.\n",
    "        \"\"\"\n",
    "        ctx.save_for_backward(input)\n",
    "        return 0.5 * (5 * input ** 3 - 3 * input)\n",
    "\n",
    "    @staticmethod\n",
    "    def backward(ctx, grad_output):\n",
    "        \"\"\"\n",
    "        In the backward pass we receive a Tensor containing the gradient of the loss\n",
    "        with respect to the output, and we need to compute the gradient of the loss\n",
    "        with respect to the input.\n",
    "        \"\"\"\n",
    "        input, = ctx.saved_tensors\n",
    "        return grad_output * 1.5 * (5 * input ** 2 - 1)"
   ],
   "id": "45d2dd19ae78c310",
   "outputs": [],
   "execution_count": 2
  },
  {
   "metadata": {
    "ExecuteTime": {
     "end_time": "2024-11-05T20:13:27.734549Z",
     "start_time": "2024-11-05T20:13:27.730114Z"
    }
   },
   "cell_type": "code",
   "source": [
    "dtype = torch.float\n",
    "device = torch.device(\"cpu\")"
   ],
   "id": "6332f6707ea31dcd",
   "outputs": [],
   "execution_count": 3
  },
  {
   "metadata": {
    "ExecuteTime": {
     "end_time": "2024-11-05T20:13:36.557550Z",
     "start_time": "2024-11-05T20:13:36.534917Z"
    }
   },
   "cell_type": "code",
   "source": [
    "x = torch.linspace(-math.pi, math.pi, 2000, device=device, dtype=dtype)\n",
    "y = torch.sin(x)"
   ],
   "id": "ed4c20819bbeaca3",
   "outputs": [],
   "execution_count": 4
  },
  {
   "metadata": {
    "ExecuteTime": {
     "end_time": "2024-11-05T20:13:45.250479Z",
     "start_time": "2024-11-05T20:13:45.244087Z"
    }
   },
   "cell_type": "code",
   "source": [
    "a = torch.full((), 0.0, device=device, dtype=dtype, requires_grad=True)\n",
    "b = torch.full((), -1.0, device=device, dtype=dtype, requires_grad=True)\n",
    "c = torch.full((), 0.0, device=device, dtype=dtype, requires_grad=True)\n",
    "d = torch.full((), 0.3, device=device, dtype=dtype, requires_grad=True)"
   ],
   "id": "a59b858c51523b33",
   "outputs": [],
   "execution_count": 5
  },
  {
   "metadata": {
    "ExecuteTime": {
     "end_time": "2024-11-05T20:15:21.240179Z",
     "start_time": "2024-11-05T20:15:20.714286Z"
    }
   },
   "cell_type": "code",
   "source": [
    "learning_rate = 5e-6\n",
    "for t in range(2000):\n",
    "    # To apply our Function, we use Function.apply method.\n",
    "    P_3 = LegendrePolynomial3.apply\n",
    "\n",
    "    y_pred = a + b * P_3(c + d * x)\n",
    "\n",
    "    loss = (y_pred - y).pow(2).sum()\n",
    "    if t % 100 == 99:\n",
    "        print(t, loss.item())\n",
    "\n",
    "    # Use autograd to compute the backward pass.\n",
    "    loss.backward()\n",
    "\n",
    "    # Update weights using gradient descent\n",
    "    with torch.no_grad():\n",
    "        a -= learning_rate * a.grad\n",
    "        b -= learning_rate * b.grad\n",
    "        c -= learning_rate * c.grad\n",
    "        d -= learning_rate * d.grad\n",
    "\n",
    "        # Zero the gradients after updating weights\n",
    "        a.grad = None\n",
    "        b.grad = None\n",
    "        c.grad = None\n",
    "        d.grad = None\n",
    "\n",
    "print(f'Result: y = {a.item()} + {b.item()} * P3({c.item()} + {d.item()} x)')"
   ],
   "id": "66daf1e5e146599",
   "outputs": [
    {
     "name": "stdout",
     "output_type": "stream",
     "text": [
      "99 8.903072357177734\n",
      "199 8.87551498413086\n",
      "299 8.85680103302002\n",
      "399 8.84408950805664\n",
      "499 8.835456848144531\n",
      "599 8.829587936401367\n",
      "699 8.825606346130371\n",
      "799 8.82289981842041\n",
      "899 8.821061134338379\n",
      "999 8.81981086730957\n",
      "1099 8.818964004516602\n",
      "1199 8.818387985229492\n",
      "1299 8.817996978759766\n",
      "1399 8.817730903625488\n",
      "1499 8.817550659179688\n",
      "1599 8.817427635192871\n",
      "1699 8.81734561920166\n",
      "1799 8.81728744506836\n",
      "1899 8.817249298095703\n",
      "1999 8.817222595214844\n",
      "Result: y = -1.0873581202108795e-10 + -2.233529806137085 * P3(-1.0858720866924187e-10 + 0.2556561827659607 x)\n"
     ]
    }
   ],
   "execution_count": 7
  },
  {
   "metadata": {},
   "cell_type": "code",
   "outputs": [],
   "execution_count": null,
   "source": "",
   "id": "beb90d1fb8cd604"
  }
 ],
 "metadata": {
  "kernelspec": {
   "display_name": "Python 3",
   "language": "python",
   "name": "python3"
  },
  "language_info": {
   "codemirror_mode": {
    "name": "ipython",
    "version": 2
   },
   "file_extension": ".py",
   "mimetype": "text/x-python",
   "name": "python",
   "nbconvert_exporter": "python",
   "pygments_lexer": "ipython2",
   "version": "2.7.6"
  }
 },
 "nbformat": 4,
 "nbformat_minor": 5
}
