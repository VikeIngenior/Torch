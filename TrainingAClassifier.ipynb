{
 "cells": [
  {
   "cell_type": "code",
   "id": "initial_id",
   "metadata": {
    "collapsed": true,
    "ExecuteTime": {
     "end_time": "2024-11-05T09:48:54.946329Z",
     "start_time": "2024-11-05T09:48:51.419554Z"
    }
   },
   "source": [
    "import torch\n",
    "import torchvision\n",
    "import torchvision.transforms as transforms"
   ],
   "outputs": [],
   "execution_count": 1
  },
  {
   "metadata": {},
   "cell_type": "markdown",
   "source": "### Load Data",
   "id": "16c7865d0fdb4779"
  },
  {
   "metadata": {
    "ExecuteTime": {
     "end_time": "2024-11-05T09:48:56.812886Z",
     "start_time": "2024-11-05T09:48:56.808363Z"
    }
   },
   "cell_type": "code",
   "source": [
    "# transforms.Compose transformation steps in sequence.\n",
    "# ToTensor() converts format to pytorch tensor\n",
    "# Normalize first tuple Centers the pixel values to have a mean of 0.\n",
    "# second tuple  Scales the values such that each channel has a standard deviation of 1.\n",
    "# This normalization step results in pixel values being scaled to a range of approximately [-1, 1], \n",
    "# which can help improve training stability and speed.\n",
    "\n",
    "transform = transforms.Compose(\n",
    "    [transforms.ToTensor(),\n",
    "     transforms.Normalize((0.5,0.5,0.5), (0.5,0.5,0.5))]\n",
    ")"
   ],
   "id": "568a2b01341c458b",
   "outputs": [],
   "execution_count": 2
  },
  {
   "metadata": {
    "ExecuteTime": {
     "end_time": "2024-11-05T09:49:02.923005Z",
     "start_time": "2024-11-05T09:49:01.500723Z"
    }
   },
   "cell_type": "code",
   "source": [
    "batch_size = 4\n",
    "\n",
    "train_set = torchvision.datasets.CIFAR10(root='./data', train=True, download=True, transform=transform)\n",
    "train_loader = torch.utils.data.DataLoader(train_set, batch_size=batch_size, shuffle=True, num_workers=2)\n",
    "\n",
    "test_set = torchvision.datasets.CIFAR10(root='./data', train=False, download=True, transform=transform)\n",
    "test_loader = torch.utils.data.DataLoader(test_set, batch_size=batch_size, shuffle=False, num_workers=2)\n",
    "\n",
    "classes = ('plane', 'car', 'bird', 'cat',\n",
    "           'deer', 'dog', 'frog', 'horse', 'ship', 'truck')"
   ],
   "id": "f6c6045a6fd3d857",
   "outputs": [
    {
     "name": "stdout",
     "output_type": "stream",
     "text": [
      "Files already downloaded and verified\n",
      "Files already downloaded and verified\n"
     ]
    }
   ],
   "execution_count": 3
  },
  {
   "metadata": {
    "ExecuteTime": {
     "end_time": "2024-11-05T09:49:05.458140Z",
     "start_time": "2024-11-05T09:49:04.921330Z"
    }
   },
   "cell_type": "code",
   "source": [
    "# Show images\n",
    "import matplotlib.pyplot as plt\n",
    "import numpy as np"
   ],
   "id": "9e15e3a407ac8ec4",
   "outputs": [],
   "execution_count": 4
  },
  {
   "metadata": {
    "ExecuteTime": {
     "end_time": "2024-11-05T09:49:13.716839Z",
     "start_time": "2024-11-05T09:49:07.066557Z"
    }
   },
   "cell_type": "code",
   "source": [
    "def imshow(img):\n",
    "    img = img / 2 + 0.5     #unnormalize\n",
    "    npimg = img.numpy()\n",
    "    plt.imshow(np.transpose(npimg, (1, 2, 0)))\n",
    "    plt.show()\n",
    "    \n",
    "#random training images\n",
    "dataiter = iter(train_loader)\n",
    "images, labels = next(dataiter)\n",
    "\n",
    "imshow(torchvision.utils.make_grid(images))\n",
    "\n",
    "print(' '.join(f'{classes[labels[j]]:5s}' for j in range(batch_size)))"
   ],
   "id": "a593f9ee5c91db8d",
   "outputs": [
    {
     "data": {
      "text/plain": [
       "<Figure size 640x480 with 1 Axes>"
      ],
      "image/png": "[encoded data removed]"
     },
     "metadata": {},
     "output_type": "display_data"
    },
    {
     "name": "stdout",
     "output_type": "stream",
     "text": [
      "horse frog  truck horse\n"
     ]
    }
   ],
   "execution_count": 5
  },
  {
   "metadata": {},
   "cell_type": "markdown",
   "source": "### Define CNN",
   "id": "c0b26331d34e20cf"
  },
  {
   "metadata": {
    "ExecuteTime": {
     "end_time": "2024-11-05T09:49:19.700282Z",
     "start_time": "2024-11-05T09:49:19.694510Z"
    }
   },
   "cell_type": "code",
   "source": [
    "import torch.nn as nn\n",
    "import torch.nn.functional as F\n",
    "\n",
    "class Net(nn.Module):\n",
    "    def __init__(self):\n",
    "        super().__init__()\n",
    "        # The nn takes 3-channel images\n",
    "        self.conv1 = nn.Conv2d(3, 6, 5)\n",
    "        self.pool = nn.MaxPool2d(2, 2)\n",
    "        self.conv2 = nn.Conv2d(6, 16, 5)\n",
    "        self.fc1 = nn.Linear(16 * 5 * 5, 120)\n",
    "        self.fc2 = nn.Linear(120, 84)\n",
    "        self.fc3 = nn.Linear(84, 10)\n",
    "        \n",
    "    def forward(self, x):\n",
    "        x = self.pool(F.relu(self.conv1(x)))\n",
    "        x = self.pool(F.relu(self.conv2(x)))\n",
    "        x = torch.flatten(x, 1)\n",
    "        x = F.relu(self.fc1(x))\n",
    "        x = F.relu(self.fc2(x))\n",
    "        x = self.fc3(x)\n",
    "        return x"
   ],
   "id": "c19c16993001854a",
   "outputs": [],
   "execution_count": 6
  },
  {
   "metadata": {
    "ExecuteTime": {
     "end_time": "2024-11-05T09:49:22.406992Z",
     "start_time": "2024-11-05T09:49:22.399357Z"
    }
   },
   "cell_type": "code",
   "source": "net = Net()",
   "id": "8db8780a5e43bd68",
   "outputs": [],
   "execution_count": 7
  },
  {
   "metadata": {},
   "cell_type": "markdown",
   "source": "### Define Loss Function and Optimizer",
   "id": "fa9cbe71139bd041"
  },
  {
   "metadata": {
    "ExecuteTime": {
     "end_time": "2024-11-05T09:49:24.378969Z",
     "start_time": "2024-11-05T09:49:24.375108Z"
    }
   },
   "cell_type": "code",
   "source": [
    "import torch.optim as optim\n",
    "\n",
    "criterion = nn.CrossEntropyLoss()\n",
    "optimizer = optim.SGD(net.parameters(), lr=1e-2, momentum=0.9)"
   ],
   "id": "18fdd6a04460cf54",
   "outputs": [],
   "execution_count": 8
  },
  {
   "metadata": {},
   "cell_type": "markdown",
   "source": "### Train the Net",
   "id": "74602a92a94953d2"
  },
  {
   "metadata": {
    "ExecuteTime": {
     "end_time": "2024-11-05T09:50:32.695798Z",
     "start_time": "2024-11-05T09:49:26.341513Z"
    }
   },
   "cell_type": "code",
   "source": [
    "for epoch in range(2):\n",
    "    \n",
    "    running_loss = 0.0\n",
    "    for i, data in enumerate(train_loader, 0):\n",
    "        inputs, labels = data # data is a list of [inputs, labels]\n",
    "        \n",
    "        optimizer.zero_grad()\n",
    "        \n",
    "        #forward + backward + optimize\n",
    "        outputs = net(inputs)\n",
    "        loss = criterion(outputs, labels)\n",
    "        loss.backward()\n",
    "        optimizer.step()\n",
    "        \n",
    "        running_loss += loss.item()\n",
    "        if i % 2000 == 1999:\n",
    "            print(f'[{epoch + 1}, {i + 1:5d} loss: {running_loss / 2000:.3f}')\n",
    "            running_loss = 0.0\n",
    "            \n",
    "print('Finished Training')"
   ],
   "id": "3c5789ee130f6dee",
   "outputs": [
    {
     "name": "stdout",
     "output_type": "stream",
     "text": [
      "[1,  2000 loss: 2.084\n",
      "[1,  4000 loss: 1.960\n",
      "[1,  6000 loss: 1.939\n",
      "[1,  8000 loss: 1.964\n",
      "[1, 10000 loss: 1.915\n",
      "[1, 12000 loss: 1.918\n",
      "[2,  2000 loss: 1.924\n",
      "[2,  4000 loss: 1.942\n",
      "[2,  6000 loss: 1.920\n",
      "[2,  8000 loss: 1.946\n",
      "[2, 10000 loss: 1.951\n",
      "[2, 12000 loss: 1.941\n",
      "Finished Training\n"
     ]
    }
   ],
   "execution_count": 9
  },
  {
   "metadata": {
    "ExecuteTime": {
     "end_time": "2024-11-05T09:50:41.538113Z",
     "start_time": "2024-11-05T09:50:41.528380Z"
    }
   },
   "cell_type": "code",
   "source": [
    "# Save model\n",
    "\n",
    "PATH = './cifar_net.pth'\n",
    "torch.save(net.state_dict(), PATH)"
   ],
   "id": "b0590e5afa0ec3c3",
   "outputs": [],
   "execution_count": 10
  },
  {
   "metadata": {},
   "cell_type": "markdown",
   "source": "### Test the Net on the Test Data",
   "id": "5dd5170f04360453"
  },
  {
   "metadata": {
    "ExecuteTime": {
     "end_time": "2024-11-05T09:50:52.729433Z",
     "start_time": "2024-11-05T09:50:46.856056Z"
    }
   },
   "cell_type": "code",
   "source": [
    "dataiter = iter(test_loader)\n",
    "images, labels = next(dataiter)\n",
    "\n",
    "imshow(torchvision.utils.make_grid(images))\n",
    "print('GroundTruth: ', ' '.join(f'{classes[labels[j]]:5s}' for j in range(4)))"
   ],
   "id": "c0f68084b9df36f9",
   "outputs": [
    {
     "data": {
      "text/plain": [
       "<Figure size 640x480 with 1 Axes>"
      ],
      "image/png": "[encoded data removed]"
     },
     "metadata": {},
     "output_type": "display_data"
    },
    {
     "name": "stdout",
     "output_type": "stream",
     "text": [
      "GroundTruth:  cat   ship  ship  plane\n"
     ]
    }
   ],
   "execution_count": 11
  },
  {
   "metadata": {
    "ExecuteTime": {
     "end_time": "2024-11-05T09:50:55.656863Z",
     "start_time": "2024-11-05T09:50:55.638534Z"
    }
   },
   "cell_type": "code",
   "source": [
    "# Load the saved model. Just to illustrate\n",
    "net = Net()\n",
    "net.load_state_dict(torch.load(PATH, weights_only=True))"
   ],
   "id": "75eec0b5786a8994",
   "outputs": [
    {
     "data": {
      "text/plain": [
       "<All keys matched successfully>"
      ]
     },
     "execution_count": 12,
     "metadata": {},
     "output_type": "execute_result"
    }
   ],
   "execution_count": 12
  },
  {
   "metadata": {
    "ExecuteTime": {
     "end_time": "2024-11-05T09:50:58.295334Z",
     "start_time": "2024-11-05T09:50:58.290350Z"
    }
   },
   "cell_type": "code",
   "source": "outputs = net(images)",
   "id": "1af5dad508050b9e",
   "outputs": [],
   "execution_count": 13
  },
  {
   "metadata": {
    "ExecuteTime": {
     "end_time": "2024-11-05T09:50:59.637598Z",
     "start_time": "2024-11-05T09:50:59.626129Z"
    }
   },
   "cell_type": "code",
   "source": [
    "_, predicted = torch.max(outputs, 1)\n",
    "\n",
    "print('Predicted: ', ' '.join(f'{classes[predicted[j]]:5s}' for j in range(4)))"
   ],
   "id": "6a202dd55b111375",
   "outputs": [
    {
     "name": "stdout",
     "output_type": "stream",
     "text": [
      "Predicted:  dog   plane plane plane\n"
     ]
    }
   ],
   "execution_count": 14
  },
  {
   "metadata": {
    "ExecuteTime": {
     "end_time": "2024-11-05T09:51:14.423810Z",
     "start_time": "2024-11-05T09:51:06.771711Z"
    }
   },
   "cell_type": "code",
   "source": [
    "correct = 0\n",
    "total = 0\n",
    "\n",
    "with torch.no_grad(): #since we're not training, we don't need to calculate the gradients for our outputs\n",
    "    for data in test_loader:\n",
    "        images, labels = data\n",
    "        outputs = net(images)\n",
    "        \n",
    "        _, predicted = torch.max(outputs.data, 1)\n",
    "        total += labels.size(0)\n",
    "        correct += (predicted == labels).sum().item()\n",
    "        \n",
    "print(f'Accuracy of the network on the 10000 test images: {100 * correct // total} %')"
   ],
   "id": "cd631d5be804e25c",
   "outputs": [
    {
     "name": "stdout",
     "output_type": "stream",
     "text": [
      "Accuracy of the network on the 10000 test images: 26 %\n"
     ]
    }
   ],
   "execution_count": 15
  },
  {
   "metadata": {},
   "cell_type": "markdown",
   "source": "Accuracy per class",
   "id": "21093c9ca100f351"
  },
  {
   "metadata": {
    "ExecuteTime": {
     "end_time": "2024-11-05T09:56:03.253387Z",
     "start_time": "2024-11-05T09:55:55.296622Z"
    }
   },
   "cell_type": "code",
   "source": [
    "correct_pred = {classname: 0 for classname in classes}\n",
    "total_pred = {classname: 0 for classname in classes}\n",
    "\n",
    "# No gradients needed:\n",
    "with torch.no_grad():\n",
    "    for data in test_loader:\n",
    "        images, labels = data\n",
    "        outputs = net(images)\n",
    "        _, predictions = torch.max(outputs, 1)\n",
    "        \n",
    "        #correct predictions for each class\n",
    "        for label, prediction in zip(labels, predictions):\n",
    "            if label == prediction:\n",
    "                correct_pred[classes[label]] += 1\n",
    "            total_pred[classes[label]] += 1\n"
   ],
   "id": "b55eca13a527a00",
   "outputs": [],
   "execution_count": 16
  },
  {
   "metadata": {
    "ExecuteTime": {
     "end_time": "2024-11-05T09:56:12.525428Z",
     "start_time": "2024-11-05T09:56:12.520324Z"
    }
   },
   "cell_type": "code",
   "source": "correct_pred",
   "id": "4c90334a1e06c3cc",
   "outputs": [
    {
     "data": {
      "text/plain": [
       "{'plane': 633,\n",
       " 'car': 83,\n",
       " 'bird': 206,\n",
       " 'cat': 152,\n",
       " 'deer': 446,\n",
       " 'dog': 149,\n",
       " 'frog': 183,\n",
       " 'horse': 380,\n",
       " 'ship': 5,\n",
       " 'truck': 451}"
      ]
     },
     "execution_count": 17,
     "metadata": {},
     "output_type": "execute_result"
    }
   ],
   "execution_count": 17
  },
  {
   "metadata": {
    "ExecuteTime": {
     "end_time": "2024-11-05T09:56:20.103990Z",
     "start_time": "2024-11-05T09:56:20.100138Z"
    }
   },
   "cell_type": "code",
   "source": "total_pred",
   "id": "85debb984c146a63",
   "outputs": [
    {
     "data": {
      "text/plain": [
       "{'plane': 1000,\n",
       " 'car': 1000,\n",
       " 'bird': 1000,\n",
       " 'cat': 1000,\n",
       " 'deer': 1000,\n",
       " 'dog': 1000,\n",
       " 'frog': 1000,\n",
       " 'horse': 1000,\n",
       " 'ship': 1000,\n",
       " 'truck': 1000}"
      ]
     },
     "execution_count": 18,
     "metadata": {},
     "output_type": "execute_result"
    }
   ],
   "execution_count": 18
  },
  {
   "metadata": {
    "ExecuteTime": {
     "end_time": "2024-11-05T09:58:52.690393Z",
     "start_time": "2024-11-05T09:58:52.684912Z"
    }
   },
   "cell_type": "code",
   "source": [
    "# Print accuracy for each class\n",
    "for classname, correct_count in correct_pred.items():\n",
    "    accuracy = 100 * float(correct_count) / total_pred[classname]\n",
    "    print(f\"Accuracy for class {classname:5s} is {accuracy:.1f} %\")"
   ],
   "id": "fb7857344d06ef87",
   "outputs": [
    {
     "name": "stdout",
     "output_type": "stream",
     "text": [
      "Accuracy for class plane is 63.3 %\n",
      "Accuracy for class car   is 8.3 %\n",
      "Accuracy for class bird  is 20.6 %\n",
      "Accuracy for class cat   is 15.2 %\n",
      "Accuracy for class deer  is 44.6 %\n",
      "Accuracy for class dog   is 14.9 %\n",
      "Accuracy for class frog  is 18.3 %\n",
      "Accuracy for class horse is 38.0 %\n",
      "Accuracy for class ship  is 0.5 %\n",
      "Accuracy for class truck is 45.1 %\n"
     ]
    }
   ],
   "execution_count": 20
  },
  {
   "metadata": {},
   "cell_type": "markdown",
   "source": "Training on GPU",
   "id": "355ab659722bd8b7"
  },
  {
   "metadata": {
    "ExecuteTime": {
     "end_time": "2024-11-05T10:01:20.497189Z",
     "start_time": "2024-11-05T10:01:20.492321Z"
    }
   },
   "cell_type": "code",
   "source": [
    "# To do that, we transfer the model onto the GPU\n",
    "\n",
    "device = torch.device('cuda' if torch.cuda.is_available() else 'cpu')\n",
    "device"
   ],
   "id": "9b4499780a911f55",
   "outputs": [
    {
     "data": {
      "text/plain": [
       "device(type='cuda')"
      ]
     },
     "execution_count": 21,
     "metadata": {},
     "output_type": "execute_result"
    }
   ],
   "execution_count": 21
  },
  {
   "metadata": {
    "ExecuteTime": {
     "end_time": "2024-11-05T10:01:32.461465Z",
     "start_time": "2024-11-05T10:01:31.133002Z"
    }
   },
   "cell_type": "code",
   "source": "net.to(device)",
   "id": "6b4b8a5698333a53",
   "outputs": [
    {
     "data": {
      "text/plain": [
       "Net(\n",
       "  (conv1): Conv2d(3, 6, kernel_size=(5, 5), stride=(1, 1))\n",
       "  (pool): MaxPool2d(kernel_size=2, stride=2, padding=0, dilation=1, ceil_mode=False)\n",
       "  (conv2): Conv2d(6, 16, kernel_size=(5, 5), stride=(1, 1))\n",
       "  (fc1): Linear(in_features=400, out_features=120, bias=True)\n",
       "  (fc2): Linear(in_features=120, out_features=84, bias=True)\n",
       "  (fc3): Linear(in_features=84, out_features=10, bias=True)\n",
       ")"
      ]
     },
     "execution_count": 22,
     "metadata": {},
     "output_type": "execute_result"
    }
   ],
   "execution_count": 22
  },
  {
   "metadata": {
    "ExecuteTime": {
     "end_time": "2024-11-05T10:10:04.901250Z",
     "start_time": "2024-11-05T10:09:04.023460Z"
    }
   },
   "cell_type": "code",
   "source": [
    "for epoch in range(2):\n",
    "    \n",
    "    running_loss = 0.0\n",
    "    for i, data in enumerate(train_loader, 0):\n",
    "        inputs, labels = data[0].to(device), data[1].to(device) # data is a list of [inputs, labels]\n",
    "        \n",
    "        optimizer.zero_grad()\n",
    "        \n",
    "        #forward + backward + optimize\n",
    "        outputs = net(inputs)\n",
    "        loss = criterion(outputs, labels)\n",
    "        loss.backward()\n",
    "        optimizer.step()\n",
    "        \n",
    "        running_loss += loss.item()\n",
    "        if i % 2000 == 1999:\n",
    "            print(f'[{epoch + 1}, {i + 1:5d} loss: {running_loss / 2000:.3f}')\n",
    "            running_loss = 0.0\n",
    "            \n",
    "print('Finished Training')"
   ],
   "id": "6ed5c2992fff4ab4",
   "outputs": [
    {
     "name": "stdout",
     "output_type": "stream",
     "text": [
      "[1,  2000 loss: 1.943\n",
      "[1,  4000 loss: 1.975\n",
      "[1,  6000 loss: 1.947\n",
      "[1,  8000 loss: 1.943\n",
      "[1, 10000 loss: 1.933\n",
      "[1, 12000 loss: 1.942\n",
      "[2,  2000 loss: 1.954\n",
      "[2,  4000 loss: 1.946\n",
      "[2,  6000 loss: 1.936\n",
      "[2,  8000 loss: 1.948\n",
      "[2, 10000 loss: 1.951\n",
      "[2, 12000 loss: 1.945\n",
      "Finished Training\n"
     ]
    }
   ],
   "execution_count": 40
  },
  {
   "metadata": {
    "ExecuteTime": {
     "end_time": "2024-11-05T10:11:18.761312Z",
     "start_time": "2024-11-05T10:11:09.862252Z"
    }
   },
   "cell_type": "code",
   "source": [
    "correct = 0\n",
    "total = 0\n",
    "\n",
    "with torch.no_grad(): #since we're not training, we don't need to calculate the gradients for our outputs\n",
    "    for data in test_loader:\n",
    "        images, labels = data[0].to(device), data[1].to(device)\n",
    "        outputs = net(images)\n",
    "        \n",
    "        _, predicted = torch.max(outputs.data, 1)\n",
    "        total += labels.size(0)\n",
    "        correct += (predicted == labels).sum().item()\n",
    "        \n",
    "print(f'Accuracy of the network on the 10000 test images: {100 * correct // total} %')"
   ],
   "id": "55cfd536b924fc7d",
   "outputs": [
    {
     "name": "stdout",
     "output_type": "stream",
     "text": [
      "Accuracy of the network on the 10000 test images: 26 %\n"
     ]
    }
   ],
   "execution_count": 41
  },
  {
   "metadata": {
    "ExecuteTime": {
     "end_time": "2024-11-05T10:12:13.788963Z",
     "start_time": "2024-11-05T10:12:03.503509Z"
    }
   },
   "cell_type": "code",
   "source": [
    "correct_pred = {classname: 0 for classname in classes}\n",
    "total_pred = {classname: 0 for classname in classes}\n",
    "\n",
    "# No gradients needed:\n",
    "with torch.no_grad():\n",
    "    for data in test_loader:\n",
    "        images, labels = data[0].to(device), data[1].to(device)\n",
    "        outputs = net(images)\n",
    "        _, predictions = torch.max(outputs, 1)\n",
    "        \n",
    "        #correct predictions for each class\n",
    "        for label, prediction in zip(labels, predictions):\n",
    "            if label == prediction:\n",
    "                correct_pred[classes[label]] += 1\n",
    "            total_pred[classes[label]] += 1\n"
   ],
   "id": "9a62ac6848d51e73",
   "outputs": [],
   "execution_count": 43
  },
  {
   "metadata": {
    "ExecuteTime": {
     "end_time": "2024-11-05T10:12:41.487536Z",
     "start_time": "2024-11-05T10:12:41.483336Z"
    }
   },
   "cell_type": "code",
   "source": [
    "# Print accuracy for each class\n",
    "for classname, correct_count in correct_pred.items():\n",
    "    accuracy = 100 * float(correct_count) / total_pred[classname]\n",
    "    print(f\"Accuracy for class {classname:5s} is {accuracy:.1f} %\")"
   ],
   "id": "8745928ac0e430af",
   "outputs": [
    {
     "name": "stdout",
     "output_type": "stream",
     "text": [
      "Accuracy for class plane is 63.3 %\n",
      "Accuracy for class car   is 8.3 %\n",
      "Accuracy for class bird  is 20.6 %\n",
      "Accuracy for class cat   is 15.3 %\n",
      "Accuracy for class deer  is 44.6 %\n",
      "Accuracy for class dog   is 14.9 %\n",
      "Accuracy for class frog  is 18.3 %\n",
      "Accuracy for class horse is 38.0 %\n",
      "Accuracy for class ship  is 0.5 %\n",
      "Accuracy for class truck is 45.1 %\n"
     ]
    }
   ],
   "execution_count": 44
  },
  {
   "metadata": {},
   "cell_type": "markdown",
   "source": [
    "The only difference is that the accuracy of the 'cat' class increased 0.1%.\n",
    "That's because the net is very small"
   ],
   "id": "7b8b0b85f54769f3"
  },
  {
   "metadata": {},
   "cell_type": "markdown",
   "source": "Changing the width of the net.",
   "id": "408c0c312f1c7b44"
  },
  {
   "metadata": {
    "ExecuteTime": {
     "end_time": "2024-11-05T10:21:39.440254Z",
     "start_time": "2024-11-05T10:21:39.435876Z"
    }
   },
   "cell_type": "code",
   "source": [
    "class Net(nn.Module):\n",
    "    def __init__(self):\n",
    "        super().__init__()\n",
    "        # The nn takes 3-channel images\n",
    "        # Only difference is that output argument is changed to 82\n",
    "        self.conv1 = nn.Conv2d(3, 82, 5)\n",
    "        self.pool = nn.MaxPool2d(2, 2)\n",
    "        self.conv2 = nn.Conv2d(82, 16, 5)\n",
    "        self.fc1 = nn.Linear(16 * 5 * 5, 120)\n",
    "        self.fc2 = nn.Linear(120, 84)\n",
    "        self.fc3 = nn.Linear(84, 10)\n",
    "        \n",
    "    def forward(self, x):\n",
    "        x = self.pool(F.relu(self.conv1(x)))\n",
    "        x = self.pool(F.relu(self.conv2(x)))\n",
    "        x = torch.flatten(x, 1)\n",
    "        x = F.relu(self.fc1(x))\n",
    "        x = F.relu(self.fc2(x))\n",
    "        x = self.fc3(x)\n",
    "        return x"
   ],
   "id": "81f1770c9065d23",
   "outputs": [],
   "execution_count": 45
  },
  {
   "metadata": {
    "ExecuteTime": {
     "end_time": "2024-11-05T10:21:51.912206Z",
     "start_time": "2024-11-05T10:21:51.903440Z"
    }
   },
   "cell_type": "code",
   "source": [
    "net = Net()\n",
    "net.to(device)"
   ],
   "id": "ed681738d55695e1",
   "outputs": [
    {
     "data": {
      "text/plain": [
       "Net(\n",
       "  (conv1): Conv2d(3, 82, kernel_size=(5, 5), stride=(1, 1))\n",
       "  (pool): MaxPool2d(kernel_size=2, stride=2, padding=0, dilation=1, ceil_mode=False)\n",
       "  (conv2): Conv2d(82, 16, kernel_size=(5, 5), stride=(1, 1))\n",
       "  (fc1): Linear(in_features=400, out_features=120, bias=True)\n",
       "  (fc2): Linear(in_features=120, out_features=84, bias=True)\n",
       "  (fc3): Linear(in_features=84, out_features=10, bias=True)\n",
       ")"
      ]
     },
     "execution_count": 46,
     "metadata": {},
     "output_type": "execute_result"
    }
   ],
   "execution_count": 46
  },
  {
   "metadata": {
    "ExecuteTime": {
     "end_time": "2024-11-05T10:23:09.800431Z",
     "start_time": "2024-11-05T10:22:08.777914Z"
    }
   },
   "cell_type": "code",
   "source": [
    "for epoch in range(2):\n",
    "    \n",
    "    running_loss = 0.0\n",
    "    for i, data in enumerate(train_loader, 0):\n",
    "        inputs, labels = data[0].to(device), data[1].to(device) # data is a list of [inputs, labels]\n",
    "        \n",
    "        optimizer.zero_grad()\n",
    "        \n",
    "        #forward + backward + optimize\n",
    "        outputs = net(inputs)\n",
    "        loss = criterion(outputs, labels)\n",
    "        loss.backward()\n",
    "        optimizer.step()\n",
    "        \n",
    "        running_loss += loss.item()\n",
    "        if i % 2000 == 1999:\n",
    "            print(f'[{epoch + 1}, {i + 1:5d} loss: {running_loss / 2000:.3f}')\n",
    "            running_loss = 0.0\n",
    "            \n",
    "print('Finished Training')"
   ],
   "id": "4ce3ff2bb222cc4",
   "outputs": [
    {
     "name": "stdout",
     "output_type": "stream",
     "text": [
      "[1,  2000 loss: 2.306\n",
      "[1,  4000 loss: 2.306\n",
      "[1,  6000 loss: 2.306\n",
      "[1,  8000 loss: 2.306\n",
      "[1, 10000 loss: 2.305\n",
      "[1, 12000 loss: 2.305\n",
      "[2,  2000 loss: 2.306\n",
      "[2,  4000 loss: 2.306\n",
      "[2,  6000 loss: 2.305\n",
      "[2,  8000 loss: 2.306\n",
      "[2, 10000 loss: 2.306\n",
      "[2, 12000 loss: 2.306\n",
      "Finished Training\n"
     ]
    }
   ],
   "execution_count": 47
  },
  {
   "metadata": {},
   "cell_type": "markdown",
   "source": "I can kinda see how will the results look like from these loss values...",
   "id": "8b2359a6a7341f86"
  },
  {
   "metadata": {},
   "cell_type": "code",
   "outputs": [],
   "execution_count": null,
   "source": "",
   "id": "4ec312eb74eeeb29"
  }
 ],
 "metadata": {
  "kernelspec": {
   "display_name": "Python 3",
   "language": "python",
   "name": "python3"
  },
  "language_info": {
   "codemirror_mode": {
    "name": "ipython",
    "version": 2
   },
   "file_extension": ".py",
   "mimetype": "text/x-python",
   "name": "python",
   "nbconvert_exporter": "python",
   "pygments_lexer": "ipython2",
   "version": "2.7.6"
  }
 },
 "nbformat": 4,
 "nbformat_minor": 5
}
