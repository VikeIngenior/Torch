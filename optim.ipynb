{
 "cells": [
  {
   "metadata": {},
   "cell_type": "markdown",
   "source": "Optimizers update the weights by mutating the Tensors holding learnable parameters.",
   "id": "f848415fbe638a03"
  },
  {
   "metadata": {
    "ExecuteTime": {
     "end_time": "2024-11-05T20:48:27.318209Z",
     "start_time": "2024-11-05T20:48:25.931379Z"
    }
   },
   "cell_type": "code",
   "source": [
    "import torch\n",
    "import math"
   ],
   "id": "5659fa40193c421b",
   "outputs": [],
   "execution_count": 1
  },
  {
   "metadata": {
    "ExecuteTime": {
     "end_time": "2024-11-05T20:48:53.243103Z",
     "start_time": "2024-11-05T20:48:53.237757Z"
    }
   },
   "cell_type": "code",
   "source": [
    "# Create Tensors to hold input and outputs\n",
    "x = torch.linspace(-math.pi, math.pi, 2000)\n",
    "y = torch.sin(x)"
   ],
   "id": "f77d00637f4894a0",
   "outputs": [],
   "execution_count": 2
  },
  {
   "metadata": {
    "ExecuteTime": {
     "end_time": "2024-11-05T20:49:37.134362Z",
     "start_time": "2024-11-05T20:49:37.130999Z"
    }
   },
   "cell_type": "code",
   "source": [
    "# Prepare the input tensor (x, x^2, x^3)\n",
    "p = torch.tensor([1,2,3])\n",
    "xx = x.unsqueeze(-1).pow(p)"
   ],
   "id": "fc5c71767a49bf72",
   "outputs": [],
   "execution_count": 3
  },
  {
   "metadata": {
    "ExecuteTime": {
     "end_time": "2024-11-05T20:50:16.392021Z",
     "start_time": "2024-11-05T20:50:16.387966Z"
    }
   },
   "cell_type": "code",
   "source": [
    "model = torch.nn.Sequential(\n",
    "    torch.nn.Linear(3,1),\n",
    "    torch.nn.Flatten(0,1)\n",
    ")"
   ],
   "id": "6000ffd287f491bc",
   "outputs": [],
   "execution_count": 5
  },
  {
   "metadata": {
    "ExecuteTime": {
     "end_time": "2024-11-05T20:54:23.148425Z",
     "start_time": "2024-11-05T20:54:18.499359Z"
    }
   },
   "cell_type": "code",
   "source": [
    "loss_fn = torch.nn.MSELoss(reduction='sum')\n",
    "\n",
    "learning_rate = 1e-3\n",
    "optimizer = torch.optim.RMSprop(model.parameters(), lr=learning_rate)"
   ],
   "id": "f9d1f4bfd167415d",
   "outputs": [],
   "execution_count": 6
  },
  {
   "metadata": {
    "ExecuteTime": {
     "end_time": "2024-11-05T20:56:25.156993Z",
     "start_time": "2024-11-05T20:56:24.500133Z"
    }
   },
   "cell_type": "code",
   "source": [
    "for t in range(2000):\n",
    "    \n",
    "    y_pred = model(xx)\n",
    "    \n",
    "    loss = loss_fn(y_pred, y)\n",
    "    if t % 100 == 99:\n",
    "        print(t, loss.item())\n",
    "        \n",
    "    optimizer.zero_grad()\n",
    "    \n",
    "    loss.backward()\n",
    "    \n",
    "    optimizer.step()"
   ],
   "id": "f2b973d239ff0cae",
   "outputs": [
    {
     "name": "stdout",
     "output_type": "stream",
     "text": [
      "99 38798.16015625\n",
      "199 19583.48828125\n",
      "299 9117.2744140625\n",
      "399 3861.89599609375\n",
      "499 1836.51220703125\n",
      "599 1326.839599609375\n",
      "699 1169.4979248046875\n",
      "799 1014.3839111328125\n",
      "899 848.3707885742188\n",
      "999 688.72021484375\n",
      "1099 544.6903076171875\n",
      "1199 419.0576171875\n",
      "1299 312.13726806640625\n",
      "1399 223.4285125732422\n",
      "1499 152.1283416748047\n",
      "1599 97.25875854492188\n",
      "1699 57.663597106933594\n",
      "1799 31.822898864746094\n",
      "1899 17.112335205078125\n",
      "1999 10.837549209594727\n"
     ]
    }
   ],
   "execution_count": 8
  },
  {
   "metadata": {
    "ExecuteTime": {
     "end_time": "2024-11-05T20:56:32.832912Z",
     "start_time": "2024-11-05T20:56:32.829640Z"
    }
   },
   "cell_type": "code",
   "source": [
    "linear_layer = model[0]\n",
    "print(f'Result: y = {linear_layer.bias.item()} + {linear_layer.weight[:, 0].item()} x + {linear_layer.weight[:, 1].item()} x^2 + {linear_layer.weight[:, 2].item()} x^3')"
   ],
   "id": "eebd2f6763ca9e3a",
   "outputs": [
    {
     "name": "stdout",
     "output_type": "stream",
     "text": [
      "Result: y = -0.0006717878277413547 + 0.8140790462493896 x + -0.0006715323543176055 x^2 + -0.08773446083068848 x^3\n"
     ]
    }
   ],
   "execution_count": 9
  },
  {
   "metadata": {},
   "cell_type": "code",
   "outputs": [],
   "execution_count": null,
   "source": "",
   "id": "2602445c54f71a76"
  }
 ],
 "metadata": {
  "kernelspec": {
   "display_name": "Python 3",
   "language": "python",
   "name": "python3"
  },
  "language_info": {
   "codemirror_mode": {
    "name": "ipython",
    "version": 2
   },
   "file_extension": ".py",
   "mimetype": "text/x-python",
   "name": "python",
   "nbconvert_exporter": "python",
   "pygments_lexer": "ipython2",
   "version": "2.7.6"
  }
 },
 "nbformat": 4,
 "nbformat_minor": 5
}
