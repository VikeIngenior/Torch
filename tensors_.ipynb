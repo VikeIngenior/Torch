{
 "cells": [
  {
   "cell_type": "code",
   "id": "initial_id",
   "metadata": {
    "collapsed": true,
    "ExecuteTime": {
     "end_time": "2024-11-04T15:45:12.505818Z",
     "start_time": "2024-11-04T15:45:09.613146Z"
    }
   },
   "source": [
    "import torch\n",
    "import numpy as np"
   ],
   "outputs": [],
   "execution_count": 1
  },
  {
   "metadata": {
    "ExecuteTime": {
     "end_time": "2024-11-04T15:45:16.971741Z",
     "start_time": "2024-11-04T15:45:15.667819Z"
    }
   },
   "cell_type": "code",
   "source": "print(torch.cuda.is_available())",
   "id": "e4750b103e5f782b",
   "outputs": [
    {
     "name": "stdout",
     "output_type": "stream",
     "text": [
      "True\n"
     ]
    }
   ],
   "execution_count": 2
  },
  {
   "metadata": {
    "ExecuteTime": {
     "end_time": "2024-11-04T15:45:17.137558Z",
     "start_time": "2024-11-04T15:45:17.131724Z"
    }
   },
   "cell_type": "code",
   "source": "torch.device('cuda') if torch.cuda.is_available() else torch.device('cpu')",
   "id": "62292ac6a63f228f",
   "outputs": [
    {
     "data": {
      "text/plain": [
       "device(type='cuda')"
      ]
     },
     "execution_count": 3,
     "metadata": {},
     "output_type": "execute_result"
    }
   ],
   "execution_count": 3
  },
  {
   "metadata": {
    "ExecuteTime": {
     "end_time": "2024-11-04T15:45:17.204807Z",
     "start_time": "2024-11-04T15:45:17.195266Z"
    }
   },
   "cell_type": "code",
   "source": "torch_array = torch.tensor([[1, 2, 3], [4, 5, 6], [7, 8, 9]])",
   "id": "6413570364b07b72",
   "outputs": [],
   "execution_count": 4
  },
  {
   "metadata": {
    "ExecuteTime": {
     "end_time": "2024-11-04T15:45:17.263441Z",
     "start_time": "2024-11-04T15:45:17.259328Z"
    }
   },
   "cell_type": "code",
   "source": "numpy_array = torch_array.numpy()",
   "id": "793b56a5ca3ecdb",
   "outputs": [],
   "execution_count": 5
  },
  {
   "metadata": {
    "ExecuteTime": {
     "end_time": "2024-11-04T15:45:17.295577Z",
     "start_time": "2024-11-04T15:45:17.292063Z"
    }
   },
   "cell_type": "code",
   "source": "print(numpy_array)",
   "id": "8953f0e9fabe43ba",
   "outputs": [
    {
     "name": "stdout",
     "output_type": "stream",
     "text": [
      "[[1 2 3]\n",
      " [4 5 6]\n",
      " [7 8 9]]\n"
     ]
    }
   ],
   "execution_count": 6
  },
  {
   "metadata": {
    "ExecuteTime": {
     "end_time": "2024-11-04T15:45:17.324208Z",
     "start_time": "2024-11-04T15:45:17.319585Z"
    }
   },
   "cell_type": "code",
   "source": "print(torch_array)",
   "id": "a321baeba513f627",
   "outputs": [
    {
     "name": "stdout",
     "output_type": "stream",
     "text": [
      "tensor([[1, 2, 3],\n",
      "        [4, 5, 6],\n",
      "        [7, 8, 9]])\n"
     ]
    }
   ],
   "execution_count": 7
  },
  {
   "metadata": {
    "ExecuteTime": {
     "end_time": "2024-11-04T15:45:17.354109Z",
     "start_time": "2024-11-04T15:45:17.350830Z"
    }
   },
   "cell_type": "code",
   "source": "np_array = np.array([[2,4],[3,6]])",
   "id": "3083e062284d82fc",
   "outputs": [],
   "execution_count": 8
  },
  {
   "metadata": {
    "ExecuteTime": {
     "end_time": "2024-11-04T15:45:17.379799Z",
     "start_time": "2024-11-04T15:45:17.366570Z"
    }
   },
   "cell_type": "code",
   "source": "tor_array = torch.tensor(np_array)",
   "id": "8327811e808dc4a5",
   "outputs": [],
   "execution_count": 9
  },
  {
   "metadata": {
    "ExecuteTime": {
     "end_time": "2024-11-04T15:45:17.397228Z",
     "start_time": "2024-11-04T15:45:17.393906Z"
    }
   },
   "cell_type": "code",
   "source": "print(tor_array)",
   "id": "d6217d2329e53b88",
   "outputs": [
    {
     "name": "stdout",
     "output_type": "stream",
     "text": [
      "tensor([[2, 4],\n",
      "        [3, 6]])\n"
     ]
    }
   ],
   "execution_count": 10
  },
  {
   "metadata": {
    "ExecuteTime": {
     "end_time": "2024-11-04T15:45:17.465142Z",
     "start_time": "2024-11-04T15:45:17.438424Z"
    }
   },
   "cell_type": "code",
   "source": [
    "tensor = torch.rand(1,5,2,3)\n",
    "print(tensor)"
   ],
   "id": "c7426c0dd3c7a1de",
   "outputs": [
    {
     "name": "stdout",
     "output_type": "stream",
     "text": [
      "tensor([[[[0.6313, 0.4050, 0.7470],\n",
      "          [0.9729, 0.1841, 0.6136]],\n",
      "\n",
      "         [[0.9640, 0.9262, 0.4522],\n",
      "          [0.8199, 0.8137, 0.4660]],\n",
      "\n",
      "         [[0.3620, 0.5876, 0.2322],\n",
      "          [0.0645, 0.1206, 0.7637]],\n",
      "\n",
      "         [[0.7174, 0.3001, 0.3777],\n",
      "          [0.8092, 0.8153, 0.1085]],\n",
      "\n",
      "         [[0.4394, 0.4633, 0.5867],\n",
      "          [0.0755, 0.0596, 0.2204]]]])\n"
     ]
    }
   ],
   "execution_count": 11
  },
  {
   "metadata": {
    "ExecuteTime": {
     "end_time": "2024-11-04T15:45:17.558539Z",
     "start_time": "2024-11-04T15:45:17.555246Z"
    }
   },
   "cell_type": "code",
   "source": "tensor_sq = tensor",
   "id": "1ac495b335f85a05",
   "outputs": [],
   "execution_count": 12
  },
  {
   "metadata": {
    "ExecuteTime": {
     "end_time": "2024-11-04T15:45:17.606525Z",
     "start_time": "2024-11-04T15:45:17.601060Z"
    }
   },
   "cell_type": "code",
   "source": [
    "squeezed_tensor = torch.squeeze(tensor_sq,dim=-4)\n",
    "print(squeezed_tensor.shape)"
   ],
   "id": "b5ff6dcab1d2e6ae",
   "outputs": [
    {
     "name": "stdout",
     "output_type": "stream",
     "text": [
      "torch.Size([5, 2, 3])\n"
     ]
    }
   ],
   "execution_count": 13
  },
  {
   "metadata": {
    "ExecuteTime": {
     "end_time": "2024-11-04T15:45:17.644394Z",
     "start_time": "2024-11-04T15:45:17.639548Z"
    }
   },
   "cell_type": "code",
   "source": "print(tensor_sq)",
   "id": "ee61e8a378a476b8",
   "outputs": [
    {
     "name": "stdout",
     "output_type": "stream",
     "text": [
      "tensor([[[[0.6313, 0.4050, 0.7470],\n",
      "          [0.9729, 0.1841, 0.6136]],\n",
      "\n",
      "         [[0.9640, 0.9262, 0.4522],\n",
      "          [0.8199, 0.8137, 0.4660]],\n",
      "\n",
      "         [[0.3620, 0.5876, 0.2322],\n",
      "          [0.0645, 0.1206, 0.7637]],\n",
      "\n",
      "         [[0.7174, 0.3001, 0.3777],\n",
      "          [0.8092, 0.8153, 0.1085]],\n",
      "\n",
      "         [[0.4394, 0.4633, 0.5867],\n",
      "          [0.0755, 0.0596, 0.2204]]]])\n"
     ]
    }
   ],
   "execution_count": 14
  },
  {
   "metadata": {
    "ExecuteTime": {
     "end_time": "2024-11-04T15:45:17.678527Z",
     "start_time": "2024-11-04T15:45:17.672747Z"
    }
   },
   "cell_type": "code",
   "source": "print(tensor_sq.sum(dim=1))",
   "id": "1e636b8f42b59297",
   "outputs": [
    {
     "name": "stdout",
     "output_type": "stream",
     "text": [
      "tensor([[[3.1140, 2.6823, 2.3958],\n",
      "         [2.7420, 1.9933, 2.1723]]])\n"
     ]
    }
   ],
   "execution_count": 15
  },
  {
   "metadata": {
    "ExecuteTime": {
     "end_time": "2024-11-04T15:45:17.710063Z",
     "start_time": "2024-11-04T15:45:17.706887Z"
    }
   },
   "cell_type": "code",
   "source": [
    "quiz_array = torch.tensor([[1, 2.2, 9.6],\n",
    "                           [4, -7.2, 6.3]])"
   ],
   "id": "f94dd938355a7588",
   "outputs": [],
   "execution_count": 16
  },
  {
   "metadata": {
    "ExecuteTime": {
     "end_time": "2024-11-04T15:45:17.730076Z",
     "start_time": "2024-11-04T15:45:17.724381Z"
    }
   },
   "cell_type": "code",
   "source": "print(quiz_array.mean(dim=1))",
   "id": "b0ab665d00be2929",
   "outputs": [
    {
     "name": "stdout",
     "output_type": "stream",
     "text": [
      "tensor([4.2667, 1.0333])\n"
     ]
    }
   ],
   "execution_count": 17
  },
  {
   "metadata": {
    "ExecuteTime": {
     "end_time": "2024-11-04T15:45:17.755985Z",
     "start_time": "2024-11-04T15:45:17.751355Z"
    }
   },
   "cell_type": "code",
   "source": [
    "x = torch.tensor([\n",
    "                  [[2,6],[7,9]],\n",
    "                  [[6,8],[26,23]],\n",
    "                  [[34,25],[29,31]]])\n",
    "print(x)"
   ],
   "id": "24f0376a39e2202b",
   "outputs": [
    {
     "name": "stdout",
     "output_type": "stream",
     "text": [
      "tensor([[[ 2,  6],\n",
      "         [ 7,  9]],\n",
      "\n",
      "        [[ 6,  8],\n",
      "         [26, 23]],\n",
      "\n",
      "        [[34, 25],\n",
      "         [29, 31]]])\n"
     ]
    }
   ],
   "execution_count": 18
  },
  {
   "metadata": {
    "ExecuteTime": {
     "end_time": "2024-11-04T15:45:17.790261Z",
     "start_time": "2024-11-04T15:45:17.786772Z"
    }
   },
   "cell_type": "code",
   "source": "x.shape",
   "id": "a1e188c64cb6866d",
   "outputs": [
    {
     "data": {
      "text/plain": [
       "torch.Size([3, 2, 2])"
      ]
     },
     "execution_count": 19,
     "metadata": {},
     "output_type": "execute_result"
    }
   ],
   "execution_count": 19
  },
  {
   "metadata": {
    "ExecuteTime": {
     "end_time": "2024-11-04T15:45:17.818906Z",
     "start_time": "2024-11-04T15:45:17.815060Z"
    }
   },
   "cell_type": "code",
   "source": "x[0].shape",
   "id": "b3845232614ae626",
   "outputs": [
    {
     "data": {
      "text/plain": [
       "torch.Size([2, 2])"
      ]
     },
     "execution_count": 20,
     "metadata": {},
     "output_type": "execute_result"
    }
   ],
   "execution_count": 20
  },
  {
   "metadata": {
    "ExecuteTime": {
     "end_time": "2024-11-04T15:45:17.859171Z",
     "start_time": "2024-11-04T15:45:17.851400Z"
    }
   },
   "cell_type": "code",
   "source": "x[:,0]",
   "id": "3a03780978776c98",
   "outputs": [
    {
     "data": {
      "text/plain": [
       "tensor([[ 2,  6],\n",
       "        [ 6,  8],\n",
       "        [34, 25]])"
      ]
     },
     "execution_count": 21,
     "metadata": {},
     "output_type": "execute_result"
    }
   ],
   "execution_count": 21
  },
  {
   "metadata": {
    "ExecuteTime": {
     "end_time": "2024-11-04T15:45:17.926653Z",
     "start_time": "2024-11-04T15:45:17.919380Z"
    }
   },
   "cell_type": "code",
   "source": "x[:,:,1:2]",
   "id": "aad04db0b3622cfd",
   "outputs": [
    {
     "data": {
      "text/plain": [
       "tensor([[[ 6],\n",
       "         [ 9]],\n",
       "\n",
       "        [[ 8],\n",
       "         [23]],\n",
       "\n",
       "        [[25],\n",
       "         [31]]])"
      ]
     },
     "execution_count": 22,
     "metadata": {},
     "output_type": "execute_result"
    }
   ],
   "execution_count": 22
  },
  {
   "metadata": {
    "ExecuteTime": {
     "end_time": "2024-11-04T15:45:18.022726Z",
     "start_time": "2024-11-04T15:45:18.014941Z"
    }
   },
   "cell_type": "code",
   "source": [
    "matr = torch.arange(1,43).view(6,7)\n",
    "matr"
   ],
   "id": "67a8f6c85fe931c9",
   "outputs": [
    {
     "data": {
      "text/plain": [
       "tensor([[ 1,  2,  3,  4,  5,  6,  7],\n",
       "        [ 8,  9, 10, 11, 12, 13, 14],\n",
       "        [15, 16, 17, 18, 19, 20, 21],\n",
       "        [22, 23, 24, 25, 26, 27, 28],\n",
       "        [29, 30, 31, 32, 33, 34, 35],\n",
       "        [36, 37, 38, 39, 40, 41, 42]])"
      ]
     },
     "execution_count": 23,
     "metadata": {},
     "output_type": "execute_result"
    }
   ],
   "execution_count": 23
  },
  {
   "metadata": {
    "ExecuteTime": {
     "end_time": "2024-11-04T15:45:18.231636Z",
     "start_time": "2024-11-04T15:45:18.226593Z"
    }
   },
   "cell_type": "code",
   "source": [
    "y = torch.tensor([[1,2.2,9.6],[4,-7.2,6.3]])\n",
    "y[:,0]"
   ],
   "id": "ddabce471c7f70b8",
   "outputs": [
    {
     "data": {
      "text/plain": [
       "tensor([1., 4.])"
      ]
     },
     "execution_count": 24,
     "metadata": {},
     "output_type": "execute_result"
    }
   ],
   "execution_count": 24
  },
  {
   "metadata": {
    "ExecuteTime": {
     "end_time": "2024-11-04T15:45:18.543973Z",
     "start_time": "2024-11-04T15:45:18.537842Z"
    }
   },
   "cell_type": "code",
   "source": "y[:1]",
   "id": "1cb58d6f64ddd3ff",
   "outputs": [
    {
     "data": {
      "text/plain": [
       "tensor([[1.0000, 2.2000, 9.6000]])"
      ]
     },
     "execution_count": 25,
     "metadata": {},
     "output_type": "execute_result"
    }
   ],
   "execution_count": 25
  },
  {
   "metadata": {
    "ExecuteTime": {
     "end_time": "2024-11-04T15:45:18.637554Z",
     "start_time": "2024-11-04T15:45:18.635271Z"
    }
   },
   "cell_type": "code",
   "source": "",
   "id": "182d6645513252d1",
   "outputs": [],
   "execution_count": null
  },
  {
   "metadata": {},
   "cell_type": "code",
   "outputs": [],
   "execution_count": null,
   "source": "",
   "id": "be549ad573c8661c"
  }
 ],
 "metadata": {
  "kernelspec": {
   "display_name": "Python 3",
   "language": "python",
   "name": "python3"
  },
  "language_info": {
   "codemirror_mode": {
    "name": "ipython",
    "version": 2
   },
   "file_extension": ".py",
   "mimetype": "text/x-python",
   "name": "python",
   "nbconvert_exporter": "python",
   "pygments_lexer": "ipython2",
   "version": "2.7.6"
  }
 },
 "nbformat": 4,
 "nbformat_minor": 5
}
